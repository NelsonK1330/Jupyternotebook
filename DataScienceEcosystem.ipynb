{
 "cells": [
  {
   "cell_type": "markdown",
   "id": "f6cc9dae",
   "metadata": {},
   "source": [
    "# Data Science Tools and Ecosystem"
   ]
  },
  {
   "cell_type": "markdown",
   "id": "f12c657b",
   "metadata": {},
   "source": [
    "In this notebook, Data Science Tools and Ecosystem are summarized."
   ]
  },
  {
   "attachments": {},
   "cell_type": "markdown",
   "id": "aee3db3c",
   "metadata": {},
   "source": [
    "Some of the popular languages that Data Scientist use are : <br>\n",
    "1.SQL <br>\n",
    "2.Python <br>\n",
    "3.R"
   ]
  },
  {
   "cell_type": "markdown",
   "id": "5a694673",
   "metadata": {},
   "source": [
    "Some of the commonly used libraries used by Data Scientists include:<br>\n",
    "1.Scikit-learn<br>\n",
    "2.TensorFlow<br>\n",
    "3.PyTorch<br>\n",
    "4.Seaborn"
   ]
  },
  {
   "cell_type": "markdown",
   "id": "079c6655",
   "metadata": {},
   "source": [
    "### Below are a few examples of evaluating arithmetic expressions in Python "
   ]
  },
  {
   "cell_type": "code",
   "execution_count": 3,
   "id": "cf5dfdaf",
   "metadata": {},
   "outputs": [
    {
     "data": {
      "text/plain": [
       "17"
      ]
     },
     "execution_count": 3,
     "metadata": {},
     "output_type": "execute_result"
    }
   ],
   "source": [
    "#This a simple arithmetic expression to mutiply then add integers\n",
    "(3*4)+5"
   ]
  },
  {
   "cell_type": "code",
   "execution_count": 5,
   "id": "072d36cc",
   "metadata": {},
   "outputs": [
    {
     "data": {
      "text/plain": [
       "3.3333333333333335"
      ]
     },
     "execution_count": 5,
     "metadata": {},
     "output_type": "execute_result"
    }
   ],
   "source": [
    "#This will convert 200 minutes to hours by diving by 60\n",
    "200/60"
   ]
  },
  {
   "cell_type": "markdown",
   "id": "76829513",
   "metadata": {},
   "source": [
    "**Objectives**\n",
    "- List of popular languages of Data Science.\n",
    "- Opensource tools for Data Science.\n",
    "- Introduction to Jupyter Notebooks."
   ]
  },
  {
   "cell_type": "markdown",
   "id": "38f0db2d",
   "metadata": {},
   "source": [
    "## Author\n",
    "Nelson Kujur"
   ]
  },
  {
   "cell_type": "code",
   "execution_count": null,
   "id": "85fc09e4",
   "metadata": {},
   "outputs": [],
   "source": []
  }
 ],
 "metadata": {
  "kernelspec": {
   "display_name": "Python 3 (ipykernel)",
   "language": "python",
   "name": "python3"
  },
  "language_info": {
   "codemirror_mode": {
    "name": "ipython",
    "version": 3
   },
   "file_extension": ".py",
   "mimetype": "text/x-python",
   "name": "python",
   "nbconvert_exporter": "python",
   "pygments_lexer": "ipython3",
   "version": "3.11.5"
  }
 },
 "nbformat": 4,
 "nbformat_minor": 5
}
